{
 "cells": [
  {
   "cell_type": "code",
   "execution_count": 19,
   "id": "f265e4fc",
   "metadata": {},
   "outputs": [
    {
     "data": {
      "text/plain": [
       "-1"
      ]
     },
     "execution_count": 19,
     "metadata": {},
     "output_type": "execute_result"
    }
   ],
   "source": [
    "import cv2\n",
    "import numpy as np\n",
    "blank = np.zeros((500, 500, 3), dtype='uint8')\n",
    "#cv.imshow('Blank', blank)\n",
    "#blank[200:300, 300:400] = 250,10,240\n",
    "#cv.imshow('Green', blank)\n",
    "#cv.rectangle(blank, (50,50), (450,450), (250,10,240), thickness=cv.FILLED)\n",
    "#cv.imshow('Rectangle', blank)\n",
    "cv2.rectangle(blank, (50,50), (300,100), (250,10,240), thickness=-1)\n",
    "cv2.rectangle(blank, (250,100), (300,450), (250,10,240), thickness=-1)#vertical\n",
    "cv2.rectangle(blank, (300,400), (450,450), (250,10,240), thickness=-1)\n",
    "cv2.rectangle(blank, (50,250), (100,450), (250,10,240), thickness=-1)#vertical\n",
    "cv2.rectangle(blank, (50,250), (450,300), (250,10,240), thickness=-1)\n",
    "cv2.rectangle(blank, (400,50), (450,250), (250,10,240), thickness=-1)#vertical\n",
    "cv2.imshow('Rectangle', blank)\n",
    "#cv.rectangle(blank, (0,0), (blank.shape[1]//2, blank.shape[0]//2), (250,250,10), thickness=-1)\n",
    "#cv.imshow('Rectangle', blank)\n",
    "#cv.circle(blank, (blank.shape[1]//2, blank.shape[0]//2), 40, (160,82,45), thickness=-1)\n",
    "#cv.imshow('Circle', blank)\n",
    "cv2.waitKey(0)"
   ]
  },
  {
   "cell_type": "code",
   "execution_count": 20,
   "id": "8123ee70",
   "metadata": {},
   "outputs": [],
   "source": [
    "lion=cv2.imread(\"lion.jpeg\")\n",
    "cv2.imshow('lion.jpeg',lion)\n",
    "cv2.waitKey()\n",
    "cv2.destroyAllWindows()\n",
    "lion=cv2.imread('lion.jpeg')\n",
    "crop_lion=lion[70:200,70:200]\n",
    "cv2.imshow('cropped lion',crop_lion)\n",
    "cv2.waitKey()\n",
    "cv2.destroyAllWindows()\n",
    "bear=cv2.imread(\"bear.jpeg\")\n",
    "cv2.imshow('bear.jpeg',bear)\n",
    "cv2.waitKey()\n",
    "cv2.destroyAllWindows()\n",
    "bearl=cv2.imread('bear.jpeg')\n",
    "crop_bear=bear[30:160,40:170]\n",
    "cv2.imshow('cropped bear',crop_bear)\n",
    "cv2.waitKey()\n",
    "cv2.destroyAllWindows()\n",
    "bear=cv2.imread('bear.jpeg')\n",
    "bear[30:160,40:170]=crop_lion\n",
    "cv2.imshow('bear.jpeg',bear)\n",
    "cv2.waitKey()\n",
    "cv2.destroyAllWindows()"
   ]
  },
  {
   "cell_type": "code",
   "execution_count": 21,
   "id": "a2a679d6",
   "metadata": {},
   "outputs": [],
   "source": [
    "cat=cv2.imread('Cats.jpg')\n",
    "dog=cv2.imread('Dogs.jpg')\n",
    "dog1=dog[0:275,0:500]\n",
    "cat1=cat[0:275,0:500]\n",
    "combine=cv2.hconcat([cat1,dog1])\n",
    "cv2.imshow(\"joined_image\",combine)\n",
    "cv2.waitKey()\n",
    "cv2.destroyAllWindows()"
   ]
  },
  {
   "cell_type": "code",
   "execution_count": null,
   "id": "45e1c024",
   "metadata": {},
   "outputs": [],
   "source": []
  }
 ],
 "metadata": {
  "kernelspec": {
   "display_name": "Python 3",
   "language": "python",
   "name": "python3"
  },
  "language_info": {
   "codemirror_mode": {
    "name": "ipython",
    "version": 3
   },
   "file_extension": ".py",
   "mimetype": "text/x-python",
   "name": "python",
   "nbconvert_exporter": "python",
   "pygments_lexer": "ipython3",
   "version": "3.8.8"
  }
 },
 "nbformat": 4,
 "nbformat_minor": 5
}
